{
 "cells": [
  {
   "cell_type": "code",
   "execution_count": 1,
   "id": "dd255fc7",
   "metadata": {},
   "outputs": [],
   "source": [
    "import pandas as pd\n",
    "import numpy as np\n",
    "from sklearn.model_selection import train_test_split\n",
    "from sklearn.preprocessing import StandardScaler, LabelEncoder\n",
    "from tensorflow.keras.utils import to_categorical\n",
    "from tensorflow.keras.models import Sequential\n",
    "from tensorflow.keras.layers import Dense\n",
    "from tensorflow.keras.optimizers import Adam"
   ]
  },
  {
   "cell_type": "code",
   "execution_count": 2,
   "id": "9c1cb5a4",
   "metadata": {},
   "outputs": [],
   "source": [
    "# Task 1\n",
    "\n",
    "data = pd.read_csv('Iris.csv')\n",
    "\n",
    "X = data.iloc[:, 1:5].values\n",
    "y = data.iloc[:, 5].values\n"
   ]
  },
  {
   "cell_type": "code",
   "execution_count": 3,
   "id": "416632b4",
   "metadata": {},
   "outputs": [
    {
     "data": {
      "text/plain": [
       "array([[5.1, 3.5, 1.4, 0.2],\n",
       "       [4.9, 3. , 1.4, 0.2],\n",
       "       [4.7, 3.2, 1.3, 0.2],\n",
       "       [4.6, 3.1, 1.5, 0.2],\n",
       "       [5. , 3.6, 1.4, 0.2]])"
      ]
     },
     "execution_count": 3,
     "metadata": {},
     "output_type": "execute_result"
    }
   ],
   "source": [
    "X.shape\n",
    "X[:5]\n"
   ]
  },
  {
   "cell_type": "code",
   "execution_count": 4,
   "id": "ef8da365",
   "metadata": {},
   "outputs": [
    {
     "data": {
      "text/plain": [
       "array(['Iris-versicolor', 'Iris-versicolor', 'Iris-versicolor',\n",
       "       'Iris-versicolor', 'Iris-versicolor', 'Iris-versicolor',\n",
       "       'Iris-versicolor', 'Iris-versicolor', 'Iris-versicolor',\n",
       "       'Iris-versicolor', 'Iris-virginica', 'Iris-virginica',\n",
       "       'Iris-virginica', 'Iris-virginica', 'Iris-virginica',\n",
       "       'Iris-virginica', 'Iris-virginica', 'Iris-virginica',\n",
       "       'Iris-virginica', 'Iris-virginica', 'Iris-virginica',\n",
       "       'Iris-virginica', 'Iris-virginica', 'Iris-virginica',\n",
       "       'Iris-virginica', 'Iris-virginica', 'Iris-virginica',\n",
       "       'Iris-virginica', 'Iris-virginica', 'Iris-virginica'], dtype=object)"
      ]
     },
     "execution_count": 4,
     "metadata": {},
     "output_type": "execute_result"
    }
   ],
   "source": [
    "y.shape\n",
    "y[90:120]"
   ]
  },
  {
   "cell_type": "code",
   "execution_count": 5,
   "id": "edadf5ba",
   "metadata": {},
   "outputs": [
    {
     "data": {
      "text/plain": [
       "array([[1., 0., 0.],\n",
       "       [1., 0., 0.],\n",
       "       [1., 0., 0.],\n",
       "       [1., 0., 0.],\n",
       "       [1., 0., 0.]])"
      ]
     },
     "execution_count": 5,
     "metadata": {},
     "output_type": "execute_result"
    }
   ],
   "source": [
    "# Convert string labels to integers, then one-hot encode\n",
    "lc = LabelEncoder()\n",
    "y_int = lc.fit_transform(y)\n",
    "y = to_categorical(y_int, num_classes=3)\n",
    "\n",
    "y[:5]"
   ]
  },
  {
   "cell_type": "code",
   "execution_count": 6,
   "id": "ee4f04c8",
   "metadata": {},
   "outputs": [
    {
     "data": {
      "text/plain": [
       "((120, 4), (30, 4), (120, 3), (30, 3))"
      ]
     },
     "execution_count": 6,
     "metadata": {},
     "output_type": "execute_result"
    }
   ],
   "source": [
    "# Split the data into 80%-20%\n",
    "\n",
    "X_train, X_test, y_train, y_test = train_test_split(X, y, test_size=0.2, random_state=42,stratify=y_int)\n",
    "X_train.shape, X_test.shape, y_train.shape, y_test.shape"
   ]
  },
  {
   "cell_type": "code",
   "execution_count": 7,
   "id": "88e5bdf6",
   "metadata": {},
   "outputs": [],
   "source": [
    "# Standardize features\n",
    "scaler = StandardScaler()\n",
    "X_train = scaler.fit_transform(X_train)\n",
    "X_test  = scaler.transform(X_test)"
   ]
  },
  {
   "cell_type": "code",
   "execution_count": 8,
   "id": "e80c3e73",
   "metadata": {},
   "outputs": [
    {
     "name": "stderr",
     "output_type": "stream",
     "text": [
      "c:\\Users\\ASUS\\AppData\\Local\\Programs\\Python\\Python39\\lib\\site-packages\\keras\\src\\layers\\core\\dense.py:87: UserWarning: Do not pass an `input_shape`/`input_dim` argument to a layer. When using Sequential models, prefer using an `Input(shape)` object as the first layer in the model instead.\n",
      "  super().__init__(activity_regularizer=activity_regularizer, **kwargs)\n"
     ]
    }
   ],
   "source": [
    "# Task 2\n",
    "# Build neural network\n",
    "\n",
    "model = Sequential([\n",
    "    Dense(8, activation='relu', input_shape=(4,)),\n",
    "    Dense(3, activation='softmax')\n",
    "])"
   ]
  },
  {
   "cell_type": "code",
   "execution_count": 9,
   "id": "54a73776",
   "metadata": {},
   "outputs": [],
   "source": [
    "# Task 3\n",
    "# Compile the model\n",
    "\n",
    "model.compile(optimizer=Adam(),\n",
    "              loss='categorical_crossentropy',\n",
    "              metrics=['accuracy'])"
   ]
  },
  {
   "cell_type": "code",
   "execution_count": 12,
   "id": "b23b216e",
   "metadata": {},
   "outputs": [
    {
     "name": "stdout",
     "output_type": "stream",
     "text": [
      "Epoch 1/100\n",
      "24/24 - 0s - 6ms/step - accuracy: 0.9667 - loss: 0.1095\n",
      "Epoch 2/100\n",
      "24/24 - 0s - 4ms/step - accuracy: 0.9667 - loss: 0.1084\n",
      "Epoch 3/100\n",
      "24/24 - 0s - 4ms/step - accuracy: 0.9667 - loss: 0.1072\n",
      "Epoch 4/100\n",
      "24/24 - 0s - 4ms/step - accuracy: 0.9667 - loss: 0.1072\n",
      "Epoch 5/100\n",
      "24/24 - 0s - 4ms/step - accuracy: 0.9667 - loss: 0.1049\n",
      "Epoch 6/100\n",
      "24/24 - 0s - 4ms/step - accuracy: 0.9667 - loss: 0.1045\n",
      "Epoch 7/100\n",
      "24/24 - 0s - 5ms/step - accuracy: 0.9667 - loss: 0.1035\n",
      "Epoch 8/100\n",
      "24/24 - 0s - 4ms/step - accuracy: 0.9667 - loss: 0.1023\n",
      "Epoch 9/100\n",
      "24/24 - 0s - 6ms/step - accuracy: 0.9667 - loss: 0.1017\n",
      "Epoch 10/100\n",
      "24/24 - 0s - 5ms/step - accuracy: 0.9667 - loss: 0.1008\n",
      "Epoch 11/100\n",
      "24/24 - 0s - 4ms/step - accuracy: 0.9750 - loss: 0.0996\n",
      "Epoch 12/100\n",
      "24/24 - 0s - 4ms/step - accuracy: 0.9667 - loss: 0.0986\n",
      "Epoch 13/100\n",
      "24/24 - 0s - 4ms/step - accuracy: 0.9667 - loss: 0.0976\n",
      "Epoch 14/100\n",
      "24/24 - 0s - 4ms/step - accuracy: 0.9667 - loss: 0.0965\n",
      "Epoch 15/100\n",
      "24/24 - 0s - 4ms/step - accuracy: 0.9667 - loss: 0.0957\n",
      "Epoch 16/100\n",
      "24/24 - 0s - 4ms/step - accuracy: 0.9750 - loss: 0.0951\n",
      "Epoch 17/100\n",
      "24/24 - 0s - 4ms/step - accuracy: 0.9667 - loss: 0.0947\n",
      "Epoch 18/100\n",
      "24/24 - 0s - 4ms/step - accuracy: 0.9667 - loss: 0.0936\n",
      "Epoch 19/100\n",
      "24/24 - 0s - 4ms/step - accuracy: 0.9750 - loss: 0.0928\n",
      "Epoch 20/100\n",
      "24/24 - 0s - 4ms/step - accuracy: 0.9667 - loss: 0.0923\n",
      "Epoch 21/100\n",
      "24/24 - 0s - 4ms/step - accuracy: 0.9750 - loss: 0.0905\n",
      "Epoch 22/100\n",
      "24/24 - 0s - 4ms/step - accuracy: 0.9750 - loss: 0.0895\n",
      "Epoch 23/100\n",
      "24/24 - 0s - 4ms/step - accuracy: 0.9667 - loss: 0.0888\n",
      "Epoch 24/100\n",
      "24/24 - 0s - 4ms/step - accuracy: 0.9750 - loss: 0.0876\n",
      "Epoch 25/100\n",
      "24/24 - 0s - 4ms/step - accuracy: 0.9667 - loss: 0.0873\n",
      "Epoch 26/100\n",
      "24/24 - 0s - 4ms/step - accuracy: 0.9667 - loss: 0.0863\n",
      "Epoch 27/100\n",
      "24/24 - 0s - 4ms/step - accuracy: 0.9750 - loss: 0.0853\n",
      "Epoch 28/100\n",
      "24/24 - 0s - 4ms/step - accuracy: 0.9667 - loss: 0.0841\n",
      "Epoch 29/100\n",
      "24/24 - 0s - 4ms/step - accuracy: 0.9750 - loss: 0.0832\n",
      "Epoch 30/100\n",
      "24/24 - 0s - 4ms/step - accuracy: 0.9750 - loss: 0.0825\n",
      "Epoch 31/100\n",
      "24/24 - 0s - 4ms/step - accuracy: 0.9667 - loss: 0.0815\n",
      "Epoch 32/100\n",
      "24/24 - 0s - 4ms/step - accuracy: 0.9667 - loss: 0.0816\n",
      "Epoch 33/100\n",
      "24/24 - 0s - 4ms/step - accuracy: 0.9667 - loss: 0.0806\n",
      "Epoch 34/100\n",
      "24/24 - 0s - 4ms/step - accuracy: 0.9667 - loss: 0.0800\n",
      "Epoch 35/100\n",
      "24/24 - 0s - 4ms/step - accuracy: 0.9667 - loss: 0.0789\n",
      "Epoch 36/100\n",
      "24/24 - 0s - 4ms/step - accuracy: 0.9750 - loss: 0.0783\n",
      "Epoch 37/100\n",
      "24/24 - 0s - 4ms/step - accuracy: 0.9750 - loss: 0.0775\n",
      "Epoch 38/100\n",
      "24/24 - 0s - 4ms/step - accuracy: 0.9750 - loss: 0.0771\n",
      "Epoch 39/100\n",
      "24/24 - 0s - 4ms/step - accuracy: 0.9750 - loss: 0.0764\n",
      "Epoch 40/100\n",
      "24/24 - 0s - 4ms/step - accuracy: 0.9667 - loss: 0.0774\n",
      "Epoch 41/100\n",
      "24/24 - 0s - 4ms/step - accuracy: 0.9667 - loss: 0.0750\n",
      "Epoch 42/100\n",
      "24/24 - 0s - 4ms/step - accuracy: 0.9750 - loss: 0.0746\n",
      "Epoch 43/100\n",
      "24/24 - 0s - 4ms/step - accuracy: 0.9750 - loss: 0.0742\n",
      "Epoch 44/100\n",
      "24/24 - 0s - 5ms/step - accuracy: 0.9750 - loss: 0.0735\n",
      "Epoch 45/100\n",
      "24/24 - 0s - 6ms/step - accuracy: 0.9750 - loss: 0.0730\n",
      "Epoch 46/100\n",
      "24/24 - 0s - 4ms/step - accuracy: 0.9750 - loss: 0.0721\n",
      "Epoch 47/100\n",
      "24/24 - 0s - 4ms/step - accuracy: 0.9750 - loss: 0.0718\n",
      "Epoch 48/100\n",
      "24/24 - 0s - 4ms/step - accuracy: 0.9750 - loss: 0.0709\n",
      "Epoch 49/100\n",
      "24/24 - 0s - 4ms/step - accuracy: 0.9750 - loss: 0.0711\n",
      "Epoch 50/100\n",
      "24/24 - 0s - 4ms/step - accuracy: 0.9750 - loss: 0.0705\n",
      "Epoch 51/100\n",
      "24/24 - 0s - 4ms/step - accuracy: 0.9750 - loss: 0.0696\n",
      "Epoch 52/100\n",
      "24/24 - 0s - 4ms/step - accuracy: 0.9750 - loss: 0.0696\n",
      "Epoch 53/100\n",
      "24/24 - 0s - 4ms/step - accuracy: 0.9750 - loss: 0.0692\n",
      "Epoch 54/100\n",
      "24/24 - 0s - 4ms/step - accuracy: 0.9750 - loss: 0.0688\n",
      "Epoch 55/100\n",
      "24/24 - 0s - 4ms/step - accuracy: 0.9750 - loss: 0.0680\n",
      "Epoch 56/100\n",
      "24/24 - 0s - 3ms/step - accuracy: 0.9750 - loss: 0.0677\n",
      "Epoch 57/100\n",
      "24/24 - 0s - 4ms/step - accuracy: 0.9750 - loss: 0.0676\n",
      "Epoch 58/100\n",
      "24/24 - 0s - 4ms/step - accuracy: 0.9750 - loss: 0.0677\n",
      "Epoch 59/100\n",
      "24/24 - 0s - 4ms/step - accuracy: 0.9750 - loss: 0.0668\n",
      "Epoch 60/100\n",
      "24/24 - 0s - 4ms/step - accuracy: 0.9750 - loss: 0.0663\n",
      "Epoch 61/100\n",
      "24/24 - 0s - 4ms/step - accuracy: 0.9750 - loss: 0.0656\n",
      "Epoch 62/100\n",
      "24/24 - 0s - 3ms/step - accuracy: 0.9750 - loss: 0.0653\n",
      "Epoch 63/100\n",
      "24/24 - 0s - 4ms/step - accuracy: 0.9750 - loss: 0.0652\n",
      "Epoch 64/100\n",
      "24/24 - 0s - 4ms/step - accuracy: 0.9750 - loss: 0.0647\n",
      "Epoch 65/100\n",
      "24/24 - 0s - 4ms/step - accuracy: 0.9750 - loss: 0.0644\n",
      "Epoch 66/100\n",
      "24/24 - 0s - 4ms/step - accuracy: 0.9750 - loss: 0.0646\n",
      "Epoch 67/100\n",
      "24/24 - 0s - 4ms/step - accuracy: 0.9750 - loss: 0.0639\n",
      "Epoch 68/100\n",
      "24/24 - 0s - 4ms/step - accuracy: 0.9750 - loss: 0.0639\n",
      "Epoch 69/100\n",
      "24/24 - 0s - 4ms/step - accuracy: 0.9750 - loss: 0.0633\n",
      "Epoch 70/100\n",
      "24/24 - 0s - 4ms/step - accuracy: 0.9750 - loss: 0.0629\n",
      "Epoch 71/100\n",
      "24/24 - 0s - 4ms/step - accuracy: 0.9750 - loss: 0.0628\n",
      "Epoch 72/100\n",
      "24/24 - 0s - 4ms/step - accuracy: 0.9750 - loss: 0.0621\n",
      "Epoch 73/100\n",
      "24/24 - 0s - 4ms/step - accuracy: 0.9750 - loss: 0.0617\n",
      "Epoch 74/100\n",
      "24/24 - 0s - 4ms/step - accuracy: 0.9750 - loss: 0.0615\n",
      "Epoch 75/100\n",
      "24/24 - 0s - 4ms/step - accuracy: 0.9750 - loss: 0.0612\n",
      "Epoch 76/100\n",
      "24/24 - 0s - 4ms/step - accuracy: 0.9750 - loss: 0.0611\n",
      "Epoch 77/100\n",
      "24/24 - 0s - 4ms/step - accuracy: 0.9750 - loss: 0.0610\n",
      "Epoch 78/100\n",
      "24/24 - 0s - 4ms/step - accuracy: 0.9750 - loss: 0.0602\n",
      "Epoch 79/100\n",
      "24/24 - 0s - 4ms/step - accuracy: 0.9750 - loss: 0.0615\n",
      "Epoch 80/100\n",
      "24/24 - 0s - 3ms/step - accuracy: 0.9750 - loss: 0.0595\n",
      "Epoch 81/100\n",
      "24/24 - 0s - 4ms/step - accuracy: 0.9750 - loss: 0.0597\n",
      "Epoch 82/100\n",
      "24/24 - 0s - 4ms/step - accuracy: 0.9750 - loss: 0.0592\n",
      "Epoch 83/100\n",
      "24/24 - 0s - 4ms/step - accuracy: 0.9750 - loss: 0.0592\n",
      "Epoch 84/100\n",
      "24/24 - 0s - 4ms/step - accuracy: 0.9750 - loss: 0.0588\n",
      "Epoch 85/100\n",
      "24/24 - 0s - 4ms/step - accuracy: 0.9750 - loss: 0.0586\n",
      "Epoch 86/100\n",
      "24/24 - 0s - 4ms/step - accuracy: 0.9750 - loss: 0.0585\n",
      "Epoch 87/100\n",
      "24/24 - 0s - 4ms/step - accuracy: 0.9750 - loss: 0.0583\n",
      "Epoch 88/100\n",
      "24/24 - 0s - 4ms/step - accuracy: 0.9750 - loss: 0.0576\n",
      "Epoch 89/100\n",
      "24/24 - 0s - 3ms/step - accuracy: 0.9750 - loss: 0.0577\n",
      "Epoch 90/100\n",
      "24/24 - 0s - 4ms/step - accuracy: 0.9750 - loss: 0.0571\n",
      "Epoch 91/100\n",
      "24/24 - 0s - 4ms/step - accuracy: 0.9750 - loss: 0.0568\n",
      "Epoch 92/100\n",
      "24/24 - 0s - 4ms/step - accuracy: 0.9750 - loss: 0.0568\n",
      "Epoch 93/100\n",
      "24/24 - 0s - 4ms/step - accuracy: 0.9750 - loss: 0.0564\n",
      "Epoch 94/100\n",
      "24/24 - 0s - 4ms/step - accuracy: 0.9750 - loss: 0.0570\n",
      "Epoch 95/100\n",
      "24/24 - 0s - 4ms/step - accuracy: 0.9750 - loss: 0.0561\n",
      "Epoch 96/100\n",
      "24/24 - 0s - 4ms/step - accuracy: 0.9750 - loss: 0.0562\n",
      "Epoch 97/100\n",
      "24/24 - 0s - 4ms/step - accuracy: 0.9750 - loss: 0.0554\n",
      "Epoch 98/100\n",
      "24/24 - 0s - 4ms/step - accuracy: 0.9750 - loss: 0.0560\n",
      "Epoch 99/100\n",
      "24/24 - 0s - 3ms/step - accuracy: 0.9750 - loss: 0.0550\n",
      "Epoch 100/100\n",
      "24/24 - 0s - 4ms/step - accuracy: 0.9750 - loss: 0.0549\n"
     ]
    }
   ],
   "source": [
    "# Train the model\n",
    "\n",
    "train = model.fit(X_train, y_train,\n",
    "                    epochs=100,\n",
    "                    batch_size=5,\n",
    "                    verbose=2)"
   ]
  },
  {
   "cell_type": "code",
   "execution_count": null,
   "id": "2db77876",
   "metadata": {},
   "outputs": [
    {
     "name": "stdout",
     "output_type": "stream",
     "text": [
      "1/1 - 0s - 47ms/step - accuracy: 0.9333 - loss: 0.0967\n",
      "\n",
      "Test-set accuracy: 93.33%\n"
     ]
    }
   ],
   "source": [
    "# Task 4 – Evaluation\n",
    "\n",
    "loss, acc = model.evaluate(X_test, y_test, verbose=0)\n",
    "print(f\"\\nTest-set accuracy: {acc * 100:.2f}%\")"
   ]
  },
  {
   "cell_type": "code",
   "execution_count": null,
   "id": "13d4ac99",
   "metadata": {},
   "outputs": [],
   "source": []
  }
 ],
 "metadata": {
  "kernelspec": {
   "display_name": "Python 3",
   "language": "python",
   "name": "python3"
  },
  "language_info": {
   "codemirror_mode": {
    "name": "ipython",
    "version": 3
   },
   "file_extension": ".py",
   "mimetype": "text/x-python",
   "name": "python",
   "nbconvert_exporter": "python",
   "pygments_lexer": "ipython3",
   "version": "3.9.8"
  }
 },
 "nbformat": 4,
 "nbformat_minor": 5
}
