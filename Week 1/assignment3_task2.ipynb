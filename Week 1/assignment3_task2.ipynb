{
  "nbformat": 4,
  "nbformat_minor": 0,
  "metadata": {
    "colab": {
      "provenance": []
    },
    "kernelspec": {
      "name": "python3",
      "display_name": "Python 3"
    },
    "language_info": {
      "name": "python"
    }
  },
  "cells": [
    {
      "cell_type": "code",
      "execution_count": 5,
      "metadata": {
        "colab": {
          "base_uri": "https://localhost:8080/"
        },
        "id": "IyZues7lXWM6",
        "outputId": "416c966a-ed63-4d30-b529-9c3fd9df3364"
      },
      "outputs": [
        {
          "output_type": "stream",
          "name": "stderr",
          "text": [
            "/usr/local/lib/python3.11/dist-packages/torchvision/models/_utils.py:208: UserWarning: The parameter 'pretrained' is deprecated since 0.13 and may be removed in the future, please use 'weights' instead.\n",
            "  warnings.warn(\n",
            "/usr/local/lib/python3.11/dist-packages/torchvision/models/_utils.py:223: UserWarning: Arguments other than a weight enum or `None` for 'weights' are deprecated since 0.13 and may be removed in the future. The current behavior is equivalent to passing `weights=ResNet50_Weights.IMAGENET1K_V1`. You can also use `weights=ResNet50_Weights.DEFAULT` to get the most up-to-date weights.\n",
            "  warnings.warn(msg)\n"
          ]
        }
      ],
      "source": [
        "import torch\n",
        "import torchvision.models as models\n",
        "import torchvision.transforms as transforms\n",
        "from PIL import Image\n",
        "import os\n",
        "\n",
        "\n",
        "model = models.resnet50(pretrained=True)\n",
        "model = torch.nn.Sequential(*list(model.children())[:-1])\n",
        "model.eval()\n",
        "\n",
        "\n",
        "preprocess = transforms.Compose([\n",
        "    transforms.Resize((224, 224)),\n",
        "    transforms.ToTensor(),\n",
        "\n",
        "])\n",
        "\n",
        "def extract_features(image_path):\n",
        "    img = Image.open(image_path).convert(\"RGB\")\n",
        "    img_tensor = preprocess(img).unsqueeze(0)\n",
        "    with torch.no_grad():\n",
        "        features = model(img_tensor)\n",
        "    return features.squeeze().numpy()"
      ]
    },
    {
      "cell_type": "code",
      "source": [
        "%pip install annoy"
      ],
      "metadata": {
        "colab": {
          "base_uri": "https://localhost:8080/"
        },
        "id": "loQxxjqYeXh9",
        "outputId": "61012761-5fd9-47c0-9bce-ce828a17282d"
      },
      "execution_count": null,
      "outputs": [
        {
          "output_type": "stream",
          "name": "stdout",
          "text": [
            "Collecting annoy\n",
            "  Downloading annoy-1.17.3.tar.gz (647 kB)\n",
            "\u001b[?25l     \u001b[90m━━━━━━━━━━━━━━━━━━━━━━━━━━━━━━━━━━━━━━━━\u001b[0m \u001b[32m0.0/647.5 kB\u001b[0m \u001b[31m?\u001b[0m eta \u001b[36m-:--:--\u001b[0m\r\u001b[2K     \u001b[91m━━━━━━━━\u001b[0m\u001b[91m╸\u001b[0m\u001b[90m━━━━━━━━━━━━━━━━━━━━━━━━━━━━━━\u001b[0m \u001b[32m143.4/647.5 kB\u001b[0m \u001b[31m4.0 MB/s\u001b[0m eta \u001b[36m0:00:01\u001b[0m\r\u001b[2K     \u001b[90m━━━━━━━━━━━━━━━━━━━━━━━━━━━━━━━━━━━━━━━\u001b[0m \u001b[32m647.5/647.5 kB\u001b[0m \u001b[31m9.4 MB/s\u001b[0m eta \u001b[36m0:00:00\u001b[0m\n",
            "\u001b[?25h  Preparing metadata (setup.py) ... \u001b[?25l\u001b[?25hdone\n",
            "Building wheels for collected packages: annoy\n",
            "  Building wheel for annoy (setup.py) ... \u001b[?25l\u001b[?25hdone\n",
            "  Created wheel for annoy: filename=annoy-1.17.3-cp311-cp311-linux_x86_64.whl size=553317 sha256=110f8f5f57b546dcb6febc792065c4a3191edd10b63061413c92f8a1c34bf3d7\n",
            "  Stored in directory: /root/.cache/pip/wheels/33/e5/58/0a3e34b92bedf09b4c57e37a63ff395ade6f6c1099ba59877c\n",
            "Successfully built annoy\n",
            "Installing collected packages: annoy\n",
            "Successfully installed annoy-1.17.3\n"
          ]
        }
      ]
    },
    {
      "cell_type": "code",
      "source": [
        "from annoy import AnnoyIndex\n",
        "import numpy as np\n",
        "\n",
        "feature_dim = 2048\n",
        "annoy_index = AnnoyIndex(feature_dim, 'euclidean')\n",
        "\n",
        "image_paths = []\n",
        "for idx, image_file in enumerate(os.listdir(\"dataset\")):\n",
        "    path = os.path.join(\"dataset\", image_file)\n",
        "    features = extract_features(path)\n",
        "    annoy_index.add_item(idx, features)\n",
        "    image_paths.append(path)\n",
        "\n",
        "annoy_index.build(10)  # 10 trees\n",
        "annoy_index.save('image_index.ann')"
      ],
      "metadata": {
        "id": "EQ-tW7VdbdJB",
        "colab": {
          "base_uri": "https://localhost:8080/"
        },
        "outputId": "41ae7faf-96c6-4d9e-b749-cc6e69470868"
      },
      "execution_count": 6,
      "outputs": [
        {
          "output_type": "execute_result",
          "data": {
            "text/plain": [
              "True"
            ]
          },
          "metadata": {},
          "execution_count": 6
        }
      ]
    },
    {
      "cell_type": "code",
      "source": [
        "def search_similar_images(query_path, top_k=5):\n",
        "    query_vec = extract_features(query_path)\n",
        "    indices = annoy_index.get_nns_by_vector(query_vec, top_k)\n",
        "    return [image_paths[i] for i in indices]\n",
        "\n",
        "results = search_similar_images(\"dataset/togepi.png\")\n",
        "for res in results:\n",
        "    print(res)\n"
      ],
      "metadata": {
        "colab": {
          "base_uri": "https://localhost:8080/"
        },
        "id": "XMx5uAxWgG-s",
        "outputId": "44002d34-a3bb-4724-d444-de2befa8e4ac"
      },
      "execution_count": 7,
      "outputs": [
        {
          "output_type": "stream",
          "name": "stdout",
          "text": [
            "dataset/togepi.png\n",
            "dataset/vanillish.png\n",
            "dataset/staryu.png\n",
            "dataset/seaking.png\n",
            "dataset/vanillite.png\n"
          ]
        }
      ]
    },
    {
      "cell_type": "code",
      "source": [],
      "metadata": {
        "id": "19Z1soCjglFE"
      },
      "execution_count": null,
      "outputs": []
    }
  ]
}